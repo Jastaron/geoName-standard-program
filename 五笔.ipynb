{
 "cells": [
  {
   "cell_type": "code",
   "execution_count": 2,
   "metadata": {
    "collapsed": true,
    "pycharm": {
     "name": "#%%\n"
    }
   },
   "outputs": [],
   "source": [
    "from pywubi import wubi\n",
    "import numpy as np\n",
    "import pandas as pd\n",
    "import re\n",
    "from difflib import SequenceMatcher as sm\n",
    "def string_similar(s1, s2):\n",
    "    return sm(None, s1, s2).quick_ratio()"
   ]
  },
  {
   "cell_type": "code",
   "execution_count": 3,
   "outputs": [
    {
     "name": "stdout",
     "output_type": "stream",
     "text": [
      "    province     city county     PAC\n",
      "0        四川省      成都市    锦江区  510104\n",
      "1        四川省      成都市    青羊区  510105\n",
      "2        四川省      成都市    金牛区  510106\n",
      "3        四川省      成都市    武侯区  510107\n",
      "4        四川省      成都市    成华区  510108\n",
      "..       ...      ...    ...     ...\n",
      "178      四川省  凉山彝族自治州    冕宁县  513433\n",
      "179      四川省  凉山彝族自治州    越西县  513434\n",
      "180      四川省  凉山彝族自治州    甘洛县  513435\n",
      "181      四川省  凉山彝族自治州    美姑县  513436\n",
      "182      四川省  凉山彝族自治州    雷波县  513437\n",
      "\n",
      "[183 rows x 4 columns]\n"
     ]
    }
   ],
   "source": [
    "df=pd.read_excel(r'四川省县级行政区划（2021）.xlsx')\n",
    "height,width=df.shape\n",
    "print(df)"
   ],
   "metadata": {
    "collapsed": false,
    "pycharm": {
     "name": "#%%\n"
    }
   }
  },
  {
   "cell_type": "code",
   "execution_count": 5,
   "outputs": [
    {
     "name": "stdout",
     "output_type": "stream",
     "text": [
      "[['qrmh', 'iag'], ['gef', 'udj'], ['qqqq', 'rhk'], ['gahd', 'wntd'], ['dnnt', 'wxfj'], ['dxv', 'riu', 'ccfh'], ['gef', 'rrrr', 'iag'], ['usrh', 'ftjb'], ['ijlg', 'iag'], ['ccy', 'iycq'], ['rtfb', 'ftjb'], ['usrh', 'ivfh'], ['qqqq', 'ipkf'], ['dddd', 'kcb'], ['aigy', 'iag'], ['ftjb', 'iag', 'fajv'], ['fkue', 'ytyh'], ['abh', 'mgoy'], ['mpfi', 'ytyh'], ['tujf', 'bjg'], ['thd', 'iycq', 'fjk'], ['amu', 'fjk'], ['dddd', 'pvf'], ['imkg', 'icwy'], ['apsu'], ['pgkl', 'kdmy'], ['aii'], ['sghg'], ['wfg', 'tkg'], ['oyty', 'jqrr'], ['fhlf', 'lpv'], ['iag', 'bjg'], ['xmwy', 'iexd'], ['dxv', 'cnng', 'isjh'], ['ihnt'], ['wgkf', 'iag'], ['wtcy', 'ynii'], ['dghg', 'auwy'], ['yttg', 'bjg'], ['lqu', 'iag'], ['khk', 'iag'], ['yygt', 'icy'], ['wfh', 'ybh'], ['xrmh', 'ttgh'], ['iukg', 'fdnt'], ['iytb', 'wmh'], ['pvf', 'ytyh'], ['dggg', 'ckf'], ['fhlf', 'ypsj'], ['suh', 'iujf'], ['uxn', 'kthh', 'udnb', 'yttd', 'thd', 'ickg'], ['guhk', 'gahd'], ['iag', 'img'], ['tjh', 'ytyh'], ['jvkg', 'wxn'], ['fjeg', 'gdi'], ['jgg', 'awbb'], ['gef', 'kthh'], ['wgij', 'utkd'], ['awbb', 'iexd'], ['temk', 'mmmm'], ['pvf', 'ndd'], ['atdp', 'iexd'], ['dddd', 'amdu'], ['tmdf', 'iawy'], [], ['aii', 'iwu'], ['dgvt', 'fqpv'], ['uqwm', 'khk'], ['btgg', 'jjf'], [], ['iitt', 'iyox'], ['gghg', 'cepk', 'stdj'], ['qqqq', 'kkkk', 'iskg'], ['trvp', 'ylyi'], ['fjk', 'dgah'], ['guwi', 'iag'], ['isy', 'kthh'], ['mtrt', 'lpv', 'xgoa', 'yttd', 'thd', 'ickg'], ['cnng', 'lpv', 'xgoa', 'yttd', 'thd', 'ickg'], ['mtrt', 'nhd', 'mmmm'], ['kdmy', 'ydi'], ['ymkf', 'fguh'], ['fkuk', 'bfwt'], ['fmuf', 'ukbh'], ['apkk', 'mmmm'], ['atdp', 'pvf'], ['wyqy', 'bdxn'], ['sghg', 'ycqb'], ['uyve', 'khk'], ['aii', 'fhcy'], ['fkue', 'mmmm'], ['wfg', 'dtfu'], ['iawy', 'ahty'], ['myd', 'sfwt'], ['gef', 'pyjh'], ['nywf', 'nuak'], ['fmuf', 'iexd'], ['wtcy', 'ytyh'], ['iag', 'pvf'], ['tayi', 'psj'], ['ymkf'], ['gawy'], ['tfqu', 'lpk'], ['iwu', 'yygy'], ['nuak', 'mmmm'], ['yygt', 'pvf'], ['uejj', 'qtdh'], ['rgmj', 'ibn'], ['gahd', 'etgg'], ['wycb', 'iiii'], ['wxfj', 'apqf'], ['cepk', 'kthh'], ['dpi', 'kthh'], ['pgjg', 'icy'], ['gak', 'iag'], ['dddd', 'ttgh'], ['ians'], ['dnv', 'idri'], ['fghy', 'fdnt'], ['qkf', 'mmmm'], ['apiu', 'xcag'], ['icy', 'idri'], ['dgtg', 'srmh'], ['gdi', 'wgf'], ['aynr', 'mmmm'], ['pgyu', 'iwu'], ['cnhn', 'ytyh'], ['ldnu', 'bjg'], ['cepk', 'iag'], ['fmuf', 'iag'], ['guhk', 'jjf'], ['dwwy', 'iag'], ['pvf', 'rgmj'], ['qii', 'gcff'], ['cnng', 'qiu', 'yvii'], ['iyy', 'kthh'], ['gjfg'], ['adnt'], ['swcy', 'itol'], ['vtn', 'pfjs', 'iqcy'], ['qqqq', 'kthh'], ['ihty', 'qqqq'], ['lfou', 'iiii'], ['fyke', 'fyvk'], ['bskg', 'fmy'], ['adkf', 'qiu', 'uglf'], ['xag', 'drii'], ['yvii', 'pghu'], ['ihnt', 'pghu'], ['myd', 'cnhn'], ['vtn', 'dxv'], ['ahty', 'iag'], ['uthp', 'ebf'], ['oynt', 'fwyf'], ['afd', 'bty'], ['usrh', 'dxv'], ['tfln', 'stkg'], ['rrrr', 'gyi'], ['dgtg', 'ians'], ['qcb', 'dpi'], ['gjfg', 'fyvk'], ['cnhn', 'fyvk'], ['xte', 'fdnt'], ['tevg', 'fdnt'], ['tjgf', 'apsu'], ['sghg', 'jjf'], ['ssss', 'jfd', 'adnt', 'yttd', 'thd', 'ickg'], ['fhlf', 'idri'], ['tfln', 'jjf'], ['wfcu', 'gjfg'], ['wfcu', 'aii'], ['psj', 'fmuf'], ['uogj', 'stkg'], ['dmhj', 'rtbn'], ['qqqq', 'bjg'], ['jvkg', 'ipmq'], ['fkuk', 'tfln'], ['jqkq', 'psj'], ['fhat', 'sghg'], ['afd', 'itkg'], ['ugdu', 'vdg'], ['flf', 'ihcy']]\n"
     ]
    }
   ],
   "source": [
    "# x=df.iloc[:20]\n",
    "y=[]\n",
    "# for i in range(20):\n",
    "#     y.append(re.split('[区 县 市]',x.iloc[i,2])[0])\n",
    "# ywb=list(range(20))\n",
    "for i in range(len(df)):\n",
    "    y.append(re.split('[区 县 市]',df.iloc[i,2])[0])\n",
    "ywb=list(range(183))\n",
    "for j in range(len(y)):\n",
    "    ywb[j]=wubi(y[j])\n",
    "print(ywb)"
   ],
   "metadata": {
    "collapsed": false,
    "pycharm": {
     "name": "#%%\n"
    }
   }
  },
  {
   "cell_type": "code",
   "execution_count": 21,
   "outputs": [
    {
     "name": "stdout",
     "output_type": "stream",
     "text": [
      "[['ccy', 'iycq'], ['ccy', 'sqtb'], ['cccc', 'iycq'], ['qrmh', 'iag'], ['qvey', 'iag'], ['gogj', 'iag'], ['qrmh', 'ifh'], ['cnng', 'qiu', 'yvii'], ['cnng', 'qiu', 'oyvi'], ['cnng', 'qiu', 'yvhk'], ['cnng', 'qiu', 'cnng']]\n"
     ]
    }
   ],
   "source": [
    "train=['双流','双柳','又流','锦江','银江','晋江','锦汗','马尔康','马尔糠','马尔唐','马尔马']\n",
    "trwb=[]\n",
    "for i in range(len(train)):\n",
    "    trwb.append(wubi(train[i]))\n",
    "print(trwb)"
   ],
   "metadata": {
    "collapsed": false,
    "pycharm": {
     "name": "#%%\n"
    }
   }
  },
  {
   "cell_type": "code",
   "execution_count": 25,
   "outputs": [
    {
     "name": "stdout",
     "output_type": "stream",
     "text": [
      "[['双流', '双流', 1.0], ['锦江', '锦江', 1.0], ['马尔康', '马尔康', 1.0], ['马尔糠', '马尔康', 0.9166666666666666], ['马尔唐', '马尔康', 0.8333333333333334]]\n"
     ]
    }
   ],
   "source": [
    "similar=[]\n",
    "C=0.8\n",
    "for i in range(len(trwb)):\n",
    "    for j in range(len(ywb)):\n",
    "        if ywb[j]==[] or len(ywb[j])==1:\n",
    "            continue\n",
    "        elif len(ywb[j]) >= 2 and len(trwb[i])>=2:\n",
    "            ratio1=string_similar(trwb[i][0],ywb[j][0])\n",
    "            ratio2=string_similar(trwb[i][1],ywb[j][1])\n",
    "            ratio = (ratio1+ratio2)/2\n",
    "            if len(ywb[j])==3 and len(trwb[i])==3:\n",
    "                ratio3=string_similar(trwb[i][2],ywb[j][2])\n",
    "                ratio = (ratio1+ratio2+ratio3)/3\n",
    "        if ratio > C:\n",
    "            similar.append([train[i],y[j],ratio])\n",
    "\n",
    "print(similar)"
   ],
   "metadata": {
    "collapsed": false,
    "pycharm": {
     "name": "#%%\n"
    }
   }
  },
  {
   "cell_type": "code",
   "execution_count": 24,
   "outputs": [
    {
     "name": "stdout",
     "output_type": "stream",
     "text": [
      "['锦江', '青羊', '金牛', '武侯', '成华', '龙泉驿', '青白江', '新都', '温江', '双流', '郫都', '新津', '金堂', '大邑', '蒲江', '都江堰', '彭州', '邛崃', '崇州', '简阳']\n"
     ]
    }
   ],
   "source": [
    "print(y)"
   ],
   "metadata": {
    "collapsed": false,
    "pycharm": {
     "name": "#%%\n"
    }
   }
  }
 ],
 "metadata": {
  "kernelspec": {
   "display_name": "Python 3",
   "language": "python",
   "name": "python3"
  },
  "language_info": {
   "codemirror_mode": {
    "name": "ipython",
    "version": 2
   },
   "file_extension": ".py",
   "mimetype": "text/x-python",
   "name": "python",
   "nbconvert_exporter": "python",
   "pygments_lexer": "ipython2",
   "version": "2.7.6"
  }
 },
 "nbformat": 4,
 "nbformat_minor": 0
}