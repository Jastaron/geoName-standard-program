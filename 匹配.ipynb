{
 "cells": [
  {
   "cell_type": "code",
   "execution_count": 2,
   "outputs": [],
   "source": [
    "import pandas as pd\n",
    "import numpy as np\n",
    "import re"
   ],
   "metadata": {
    "collapsed": false,
    "pycharm": {
     "name": "#%%\n"
    }
   }
  },
  {
   "cell_type": "code",
   "execution_count": 3,
   "outputs": [
    {
     "name": "stdout",
     "output_type": "stream",
     "text": [
      "    province     city county     PAC\n",
      "0        四川省      成都市    锦江区  510104\n",
      "1        四川省      成都市    青羊区  510105\n",
      "2        四川省      成都市    金牛区  510106\n",
      "3        四川省      成都市    武侯区  510107\n",
      "4        四川省      成都市    成华区  510108\n",
      "..       ...      ...    ...     ...\n",
      "178      四川省  凉山彝族自治州    冕宁县  513433\n",
      "179      四川省  凉山彝族自治州    越西县  513434\n",
      "180      四川省  凉山彝族自治州    甘洛县  513435\n",
      "181      四川省  凉山彝族自治州    美姑县  513436\n",
      "182      四川省  凉山彝族自治州    雷波县  513437\n",
      "\n",
      "[183 rows x 4 columns]\n"
     ]
    }
   ],
   "source": [
    "df=pd.read_excel(r'四川省县级行政区划（2021）.xlsx')\n",
    "height,width=df.shape\n",
    "print(df)"
   ],
   "metadata": {
    "collapsed": false,
    "pycharm": {
     "name": "#%%\n"
    }
   }
  },
  {
   "cell_type": "code",
   "execution_count": 5,
   "outputs": [],
   "source": [
    "# x=df.iloc[:20]\n",
    "y=[]\n",
    "# for i in range(20):\n",
    "#     y.append(re.split('[区 县 市]',x.iloc[i,2])[0])\n",
    "\n",
    "\n",
    "for i in range(len(df)):\n",
    "    y.append(re.split('[区 县 市]',df.iloc[i,2])[0])"
   ],
   "metadata": {
    "collapsed": false,
    "pycharm": {
     "name": "#%%\n"
    }
   }
  },
  {
   "cell_type": "code",
   "execution_count": 6,
   "outputs": [
    {
     "name": "stdout",
     "output_type": "stream",
     "text": [
      "['锦江', '青羊', '金牛', '武侯', '成华', '龙泉驿', '青白江', '新都', '温江', '双流', '郫都', '新津', '金堂', '大邑', '蒲江', '都江堰', '彭州', '邛崃', '崇州', '简阳', '自流井', '贡井', '大安', '沿滩', '荣', '富顺', '东', '西', '仁和', '米易', '盐边', '江阳', '纳溪', '龙马潭', '泸', '合江', '叙永', '古蔺', '旌阳', '罗江', '中江', '广汉', '什邡', '绵竹', '涪城', '游仙', '安州', '三台', '盐亭', '梓潼', '北川羌族自治', '平武', '江油', '利州', '昭化', '朝天', '旺苍', '青川', '剑阁', '苍溪', '船山', '安居', '蓬溪', '大英', '射洪', '', '东兴', '威远', '资中', '隆昌', '', '沙湾', '五通桥', '金口河', '犍为', '井研', '夹江', '沐川', '峨边彝族自治', '马边彝族自治', '峨眉山', '顺庆', '高坪', '嘉陵', '南部', '营山', '蓬安', '仪陇', '西充', '阆中', '东坡', '彭山', '仁寿', '洪雅', '丹棱', '青神', '翠屏', '南溪', '叙州', '江安', '长宁', '高', '珙', '筠连', '兴文', '屏山', '广安', '前锋', '岳池', '武胜', '邻水', '华蓥', '通川', '达川', '宣汉', '开江', '大竹', '渠', '万源', '雨城', '名山', '荥经', '汉源', '石棉', '天全', '芦山', '宝兴', '巴州', '恩阳', '通江', '南江', '平昌', '雁江', '安岳', '乐至', '马尔康', '汶川', '理', '茂', '松潘', '九寨沟', '金川', '小金', '黑水', '壤塘', '阿坝', '若尔盖', '红原', '康定', '泸定', '丹巴', '九龙', '雅江', '道孚', '炉霍', '甘孜', '新龙', '德格', '白玉', '石渠', '色达', '理塘', '巴塘', '乡城', '稻城', '得荣', '西昌', '木里藏族自治', '盐源', '德昌', '会理', '会东', '宁南', '普格', '布拖', '金阳', '昭觉', '喜德', '冕宁', '越西', '甘洛', '美姑', '雷波']\n"
     ]
    }
   ],
   "source": [
    "print(y)"
   ],
   "metadata": {
    "collapsed": false,
    "pycharm": {
     "name": "#%%\n"
    }
   }
  },
  {
   "cell_type": "code",
   "execution_count": 11,
   "outputs": [
    {
     "name": "stdout",
     "output_type": "stream",
     "text": [
      "双流区朱刘子最牛逼\n"
     ]
    }
   ],
   "source": [
    "location=input(\"请输入地区\")\n",
    "print(location)"
   ],
   "metadata": {
    "collapsed": false,
    "pycharm": {
     "name": "#%%\n"
    }
   }
  },
  {
   "cell_type": "code",
   "execution_count": 10,
   "outputs": [
    {
     "data": {
      "text/plain": "False"
     },
     "execution_count": 10,
     "metadata": {},
     "output_type": "execute_result"
    }
   ],
   "source": [
    "any(location in item for item in y)#用处不大"
   ],
   "metadata": {
    "collapsed": false,
    "pycharm": {
     "name": "#%%\n"
    }
   }
  },
  {
   "cell_type": "code",
   "execution_count": 12,
   "outputs": [
    {
     "data": {
      "text/plain": "True"
     },
     "execution_count": 12,
     "metadata": {},
     "output_type": "execute_result"
    }
   ],
   "source": [
    "any(item in location for item in y)"
   ],
   "metadata": {
    "collapsed": false,
    "pycharm": {
     "name": "#%%\n"
    }
   }
  }
 ],
 "metadata": {
  "kernelspec": {
   "display_name": "Python 3",
   "language": "python",
   "name": "python3"
  },
  "language_info": {
   "codemirror_mode": {
    "name": "ipython",
    "version": 2
   },
   "file_extension": ".py",
   "mimetype": "text/x-python",
   "name": "python",
   "nbconvert_exporter": "python",
   "pygments_lexer": "ipython2",
   "version": "2.7.6"
  }
 },
 "nbformat": 4,
 "nbformat_minor": 0
}