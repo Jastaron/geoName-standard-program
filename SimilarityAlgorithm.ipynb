{
 "cells": [
  {
   "cell_type": "code",
   "execution_count": 1,
   "metadata": {
    "collapsed": true
   },
   "outputs": [],
   "source": [
    "import re\n",
    "import pandas as pd\n",
    "from pypinyin import lazy_pinyin as lpy, Style\n",
    "from pywubi import wubi as wb"
   ]
  },
  {
   "cell_type": "code",
   "execution_count": 2,
   "outputs": [],
   "source": [
    "def fin(strokes_path):\n",
    "    # 如果返回 0, 则也是在unicode中不存在kTotalStrokes字段\n",
    "    strokes = []\n",
    "    with open(strokes_path, 'r') as fr:\n",
    "        for line in fr:\n",
    "            strokes.append(int(line.strip()))\n",
    "    return strokes\n",
    "def get_stroke(c,strokes):\n",
    "    unicode_ = ord(c)\n",
    "    if 13312 <= unicode_ <= 64045:\n",
    "        return strokes[unicode_ - 13312]\n",
    "    elif 131072 <= unicode_ <= 194998:\n",
    "        return strokes[unicode_ - 80338]\n",
    "    else:\n",
    "        print(\"c should be a CJK char, or not have stroke in unihan data.\")\n",
    "        # can also return 0"
   ],
   "metadata": {
    "collapsed": false
   }
  },
  {
   "cell_type": "code",
   "execution_count": 3,
   "outputs": [],
   "source": [
    "total = pd.read_csv(r'F:\\SCU\\大创\\python导入\\总表.csv')\n",
    "countyAbbr = pd.read_csv(r'F:\\SCU\\大创\\python导入\\县缩写.csv')\n",
    "cityAbbr = pd.read_csv(r'F:\\SCU\\大创\\python导入\\市缩写.csv')\n",
    "dtError = pd.read_csv(r'F:\\SCU\\大创\\python导入\\市中区歧义.csv')\n",
    "strokes = fin(r'F:\\SCU\\大创\\python导入\\strokes.txt')\n",
    "totalDict = {}\n",
    "countyDict = {}\n",
    "cityDict = {}\n",
    "dteDict = {}\n",
    "for i in range(len(total)):\n",
    "    totalDict[total.iloc[i,0]]={\n",
    "        'province':total.iloc[i,1],\n",
    "        'city':total.iloc[i,2],\n",
    "        'county':total.iloc[i,3]\n",
    "                                }\n",
    "for i in range(len(countyAbbr)):\n",
    "    countyDict[countyAbbr.iloc[i,1]]=countyAbbr.iloc[i,0]\n",
    "for i in range(len(cityAbbr)):\n",
    "    cityDict[cityAbbr.iloc[i,1]]=cityAbbr.iloc[i,0]\n",
    "for i in range(len(dtError)):\n",
    "    dteDict[dtError.iloc[i,1]]=dtError.iloc[i,0]\n",
    "PyIniDict = {\n",
    "    'b':'1', 'p':'2', 'm':'3', 'f':'4', 'd':'5', 't':'6', 'n':'7', 'l':'7',\n",
    "    'g':'8', 'k':'9', 'h':'A', 'j':'B', 'q':'C', 'x':'D', 'zh':'E', 'ch':'F',\n",
    "    'sh':'G', 'r':'H', 'z':'E', 'c':'F', 's':'G', 'y':'I', 'w':'J', '':'I'\n",
    "}\n",
    "PyFinalDict = {\n",
    "    'a':'1', 'o':'2', 'e':'3', 'i':'4', 'u':'5', 'v':'5', 'yu':'5', 'ai':'6',\n",
    "    'ei':'7', 'ui':'8', 'ao':'9', 'ou':'A', 'iu':'B', 'ie':'C', 'ye':'C',\n",
    "    've':'D', 'yue':'D', 'ue':'D', 'er':'E', 'an':'F', 'en':'G', 'in':'H',\n",
    "    'un':'I', 'ven':'J', 'yun':'J', 'ang':'F', 'eng':'I', 'ing':'H',\n",
    "    'ong':'K', 'yin':'H','you':'A', 'uang':'L', 'iang':'M', 'iong':'N',\n",
    "    'ua':'O', 'wen':'I', 'yan':'P', 'ian':'P', 'yang':'M', 'yong':'N',\n",
    "    'uo':'Q', 'wo':'Q', 'ia':'R', 'ya':'R', 'uan':'S', 'wan':'S', 'wa':'O',\n",
    "    'iao':'T','yao':'T'\n",
    "}\n",
    "strokesDict = {\n",
    "    0:'0',1:'1',2:'2',3:'3',4:'4',5:'5',6:'6',7:'7',8:'8',9:'9',\n",
    "    10:'a',11:'b',12:'c',13:'d',14:'e',15:'f',16:'g',17:'h',18:'i',19:'j',\n",
    "    20:'k',21:'l',22:'m',23:'n',24:'o',25:'p',26:'q',27:'r',28:'s',29:'t',\n",
    "    30:'u',31:'v',32:'w',33:'x',34:'y',35:'z',36:'A',37:'B',38:'C',39:'D',\n",
    "    40:'E',41:'F',42:'G',43:'H',44:'I',45:'J',46:'K',47:'L',48:'M',49:'N',\n",
    "    50:'O',51:'P',52:'Q',53:'R',54:'S',55:'T',56:'U',57:'V',58:'W',59:'X',\n",
    "    60:'Y',61:'Z'\n",
    "}"
   ],
   "metadata": {
    "collapsed": false
   }
  },
  {
   "cell_type": "code",
   "execution_count": 4,
   "outputs": [],
   "source": [
    "def findAddr(Addr):\n",
    "    if '市中区' in Addr:\n",
    "        for i in range(len(dtError)):\n",
    "            if dtError.iloc[i,1] in Addr:\n",
    "                return dteDict[dtError.iloc[i,1]]\n",
    "    else:\n",
    "        countyTempAddr = []\n",
    "        for i in range(len(countyAbbr)):\n",
    "            if countyAbbr.iloc[i,1] in Addr:\n",
    "                countyTempAddr.append(countyAbbr.iloc[i,1])\n",
    "        if len(countyTempAddr)>0:\n",
    "            fore = countyTempAddr[0]\n",
    "            for j in range(1,len(countyTempAddr)):\n",
    "                foreTemp = countyTempAddr[j]\n",
    "                if Addr.index(foreTemp)<Addr.index(fore):\n",
    "                    fore = foreTemp\n",
    "            return countyDict[fore]\n",
    "        for i in range(len(cityAbbr)):\n",
    "            if cityAbbr.iloc[i,1] in Addr:\n",
    "                return cityDict[cityAbbr.iloc[i,1]]\n",
    "        return None\n",
    "def printAddr(AddrPAC):\n",
    "    data = [totalDict[AddrPAC]]\n",
    "    df = pd.DataFrame(data)\n",
    "    print(df)\n",
    "def printAddrList(AddrPACList):\n",
    "    for i in range(len(AddrPACList)):\n",
    "        if AddrPACList[i] is None:\n",
    "            print('{}\\t{}\\t{}\\t{}'.format('nan','nan','nan','nan'))\n",
    "        else:\n",
    "            d = totalDict[AddrPACList[i]]\n",
    "            print('{}\\t{}\\t{}\\t{}'.format(AddrPACList[i],d.get('province'),d.get('city'),d.get('county')))"
   ],
   "metadata": {
    "collapsed": false
   }
  },
  {
   "cell_type": "code",
   "execution_count": 5,
   "outputs": [
    {
     "name": "stdout",
     "output_type": "stream",
     "text": [
      "511181\t四川省\t乐山市\t峨眉山市\n",
      "510725\t四川省\t绵阳市\t梓潼县\n",
      "512000\t四川省\t资阳市\tnan\n",
      "513431\t四川省\t凉山彝族自治州\t昭觉县\n",
      "510811\t四川省\t广元市\t昭化区\n",
      "510811\t四川省\t广元市\t昭化区\n",
      "nan\tnan\tnan\tnan\n",
      "511524\t四川省\t宜宾市\t长宁县\n",
      "511524\t四川省\t宜宾市\t长宁县\n",
      "511527\t四川省\t宜宾市\t筠连县\n",
      "nan\tnan\tnan\tnan\n",
      "nan\tnan\tnan\tnan\n",
      "511181\t四川省\t乐山市\t峨眉山市\n",
      "513227\t四川省\t阿坝藏族羌族自治州\t小金县\n",
      "513434\t四川省\t凉山彝族自治州\t越西县\n",
      "513434\t四川省\t凉山彝族自治州\t越西县\n",
      "511621\t四川省\t广安市\t岳池县\n",
      "nan\tnan\tnan\tnan\n",
      "nan\tnan\tnan\tnan\n",
      "nan\tnan\tnan\tnan\n",
      "nan\tnan\tnan\tnan\n",
      "511524\t四川省\t宜宾市\t长宁县\n",
      "511524\t四川省\t宜宾市\t长宁县\n",
      "511527\t四川省\t宜宾市\t筠连县\n",
      "511826\t四川省\t雅安市\t芦山县\n",
      "511823\t四川省\t雅安市\t汉源县\n",
      "511823\t四川省\t雅安市\t汉源县\n",
      "511827\t四川省\t雅安市\t宝兴县\n",
      "511827\t四川省\t雅安市\t宝兴县\n",
      "511800\t四川省\t雅安市\tnan\n",
      "511800\t四川省\t雅安市\tnan\n",
      "511800\t四川省\t雅安市\tnan\n",
      "511800\t四川省\t雅安市\tnan\n",
      "511800\t四川省\t雅安市\tnan\n",
      "511803\t四川省\t雅安市\t名山区\n",
      "511800\t四川省\t雅安市\tnan\n",
      "511722\t四川省\t达州市\t宣汉县\n",
      "510524\t四川省\t泸州市\t叙永县\n",
      "nan\tnan\tnan\tnan\n",
      "511822\t四川省\t雅安市\t荥经县\n",
      "511822\t四川省\t雅安市\t荥经县\n",
      "511822\t四川省\t雅安市\t荥经县\n",
      "513329\t四川省\t甘孜藏族自治州\t新龙县\n",
      "513227\t四川省\t阿坝藏族羌族自治州\t小金县\n",
      "513227\t四川省\t阿坝藏族羌族自治州\t小金县\n",
      "513227\t四川省\t阿坝藏族羌族自治州\t小金县\n",
      "513401\t四川省\t凉山彝族自治州\t西昌市\n",
      "513223\t四川省\t阿坝藏族羌族自治州\t茂县\n",
      "nan\tnan\tnan\tnan\n",
      "nan\tnan\tnan\tnan\n",
      "nan\tnan\tnan\tnan\n",
      "nan\tnan\tnan\tnan\n",
      "nan\tnan\tnan\tnan\n",
      "513221\t四川省\t阿坝藏族羌族自治州\t汶川县\n",
      "513221\t四川省\t阿坝藏族羌族自治州\t汶川县\n",
      "513221\t四川省\t阿坝藏族羌族自治州\t汶川县\n",
      "513221\t四川省\t阿坝藏族羌族自治州\t汶川县\n",
      "513221\t四川省\t阿坝藏族羌族自治州\t汶川县\n",
      "513221\t四川省\t阿坝藏族羌族自治州\t汶川县\n",
      "513221\t四川省\t阿坝藏族羌族自治州\t汶川县\n",
      "513221\t四川省\t阿坝藏族羌族自治州\t汶川县\n",
      "513221\t四川省\t阿坝藏族羌族自治州\t汶川县\n",
      "513231\t四川省\t阿坝藏族羌族自治州\t阿坝县\n",
      "513221\t四川省\t阿坝藏族羌族自治州\t汶川县\n",
      "510115\t四川省\t成都市\t温江区\n",
      "510115\t四川省\t成都市\t温江区\n",
      "510115\t四川省\t成都市\t温江区\n",
      "510821\t四川省\t广元市\t旺苍县\n",
      "nan\tnan\tnan\tnan\n",
      "511781\t四川省\t达州市\t万源市\n",
      "511781\t四川省\t达州市\t万源市\n",
      "511781\t四川省\t达州市\t万源市\n",
      "511781\t四川省\t达州市\t万源市\n",
      "nan\tnan\tnan\tnan\n",
      "nan\tnan\tnan\tnan\n",
      "511825\t四川省\t雅安市\t天全县\n",
      "510727\t四川省\t绵阳市\t平武县\n",
      "511024\t四川省\t内江市\t威远县\n",
      "511922\t四川省\t巴中市\t南江县\n",
      "511300\t四川省\t南充市\tnan\n",
      "513433\t四川省\t凉山彝族自治州\t冕宁县\n",
      "510623\t四川省\t德阳市\t中江县\n",
      "510700\t四川省\t绵阳市\tnan\n",
      "513201\t四川省\t阿坝藏族羌族自治州\t马尔康市\n",
      "513422\t四川省\t凉山彝族自治州\t木里藏族自治县\n",
      "513426\t四川省\t凉山彝族自治州\t会东县\n",
      "511132\t四川省\t乐山市\t峨边彝族自治县\n",
      "513324\t四川省\t甘孜藏族自治州\t九龙县\n",
      "nan\tnan\tnan\tnan\n",
      "513233\t四川省\t阿坝藏族羌族自治州\t红原县\n",
      "510181\t四川省\t成都市\t都江堰市\n",
      "513328\t四川省\t甘孜藏族自治州\t甘孜县\n",
      "nan\tnan\tnan\tnan\n",
      "nan\tnan\tnan\tnan\n",
      "nan\tnan\tnan\tnan\n",
      "511181\t四川省\t乐山市\t峨眉山市\n",
      "511132\t四川省\t乐山市\t峨边彝族自治县\n",
      "513326\t四川省\t甘孜藏族自治州\t道孚县\n",
      "513323\t四川省\t甘孜藏族自治州\t丹巴县\n",
      "nan\tnan\tnan\tnan\n"
     ]
    }
   ],
   "source": [
    "trainData = pd.read_csv(r'F:\\SCU\\大创\\python导入\\训练11-27.csv',header=None)\n",
    "train2PAC = []\n",
    "for i in range(len(trainData)):\n",
    "    train2PAC.append(findAddr(trainData.iloc[i,0]))\n",
    "# print(train2PAC)\n",
    "printAddrList(train2PAC)\n",
    "#\n",
    "f=open(r'F:\\SCU\\大创\\python导入\\训练11-27.txt','w')\n",
    "for i in range(len(train2PAC)):\n",
    "    f.writelines(str(train2PAC[i])+'\\n')\n",
    "f.close()"
   ],
   "metadata": {
    "collapsed": false
   }
  },
  {
   "cell_type": "code",
   "execution_count": 6,
   "outputs": [],
   "source": [
    "def MatchCounty(data):\n",
    "    PATTERN1 = r'([\\u4e00-\\u9fa5]{2,5}?(?:省|自治区)){0,1}([\\u4e00-\\u9fa5]{2,7}?(?:自治州|州|市)){0,1}([\\u4e00-\\u9fa5]{2,7}?(?:区|自治县|县)){0,1}'\n",
    "    pattern = re.compile(PATTERN1)\n",
    "    p3 = ''\n",
    "    m = pattern.search(data)\n",
    "    if not m:\n",
    "        print('None')\n",
    "    if m.lastindex >= 3:\n",
    "        p3 = m.group(3)\n",
    "        p3 = re.sub('区|自治县|县','',p3,1)\n",
    "    return p3"
   ],
   "metadata": {
    "collapsed": false
   }
  },
  {
   "cell_type": "code",
   "execution_count": 7,
   "outputs": [],
   "source": [
    "def SimilarityCal(testList,trainList,SimilarityScore):\n",
    "    l = len(testList)\n",
    "    SSCsum = 0\n",
    "    for i in range(l):\n",
    "        testStr = testList[i]\n",
    "        if testStr != '':\n",
    "            testIni = lpy(testStr,style=Style.INITIALS)[0]\n",
    "            testIniCode = PyIniDict[testIni]\n",
    "            testFinal = lpy(testStr,style=Style.NORMAL)[0].replace(testIni,'')\n",
    "            testFinalCode = PyFinalDict[testFinal]\n",
    "            testTone = lpy(testStr,style=Style.TONE3)[0][-1]\n",
    "            TestPy = '%s%s%s' % (testIniCode,testFinalCode,testTone)\n",
    "            TestWb = str(f'{wb(testStr)[0]:$<4}')\n",
    "            TestBihua = strokesDict[get_stroke(testStr,strokes)]\n",
    "            TestSSC = TestPy+TestWb+TestBihua\n",
    "        else:\n",
    "            TestSSC = '00000000'\n",
    "\n",
    "        trainStr = trainList[i]\n",
    "        if trainStr != '':\n",
    "            trainIni = lpy(trainStr,style=Style.INITIALS)[0]\n",
    "            trainIniCode = PyIniDict[trainIni]\n",
    "            trainFinal = lpy(trainStr,style=Style.NORMAL)[0].replace(trainIni,'')\n",
    "            trainFinalCode = PyFinalDict[trainFinal]\n",
    "            trainTone = lpy(trainStr,style=Style.TONE3)[0][-1]\n",
    "            TrainPy = '%s%s%s' % (trainIniCode,trainFinalCode,trainTone)\n",
    "            TrainWb = str(f'{wb(trainStr)[0]:$<4}')\n",
    "            TrainBihua = strokesDict[get_stroke(trainStr,strokes)]\n",
    "            TrainSSC = TrainPy+TrainWb+TrainBihua\n",
    "        else:\n",
    "            TrainSSC = '00000000'\n",
    "\n",
    "        # print(TestSSC+'\\t'+TrainSSC)\n",
    "\n",
    "        def CComp(char1,char2):\n",
    "            if char1 == char2: return 1\n",
    "            else: return 0\n",
    "\n",
    "        te = list(TestSSC)\n",
    "        tr = list(TrainSSC)\n",
    "        SSCscore = 0\n",
    "        for j in range(len(te)):\n",
    "            if j in [3,4,5,6]:\n",
    "                SSCscore += 0.15*CComp(te[j],tr[j])\n",
    "            else:\n",
    "                SSCscore += 0.1*CComp(te[j],tr[j])\n",
    "            # SSCscore += 0.125*CComp(te[j],tr[j])\n",
    "        SSCsum += SSCscore\n",
    "    SSCsum /= l\n",
    "    # SimilarityScore[''.join(trainList)] = SSCsum\n",
    "    SimilarityScore.append([''.join(trainList),round(SSCsum,1)])"
   ],
   "metadata": {
    "collapsed": false
   }
  },
  {
   "cell_type": "code",
   "execution_count": 8,
   "outputs": [],
   "source": [
    "def countyAddrComp(p3):\n",
    "    # countyPro = {}\n",
    "    leastRatio = 0.4\n",
    "    SimilarityScore = []\n",
    "    TestLen = len(p3)\n",
    "    for i in range(TestLen):\n",
    "        for j in range(len(countyAbbr)):\n",
    "            if p3[i] in countyAbbr.iloc[j,1]:\n",
    "                trainAbbr = countyAbbr.iloc[j,1]\n",
    "                LocaTrain = countyAbbr.iloc[j,1].find(p3[i])\n",
    "                LocaTest = i\n",
    "                # print(LocaTrain,LocaTest)\n",
    "                TrainList = list(trainAbbr)\n",
    "                TestList = list(p3)\n",
    "                # print(TrainList,TestList)\n",
    "                diff = LocaTrain - LocaTest\n",
    "                while diff > 0:\n",
    "                    TestList.insert(0,\"\")\n",
    "                    diff -= 1\n",
    "                while diff < 0:\n",
    "                    TrainList.insert(0,\"\")\n",
    "                    diff += 1\n",
    "                lenDiff = len(TrainList)-len(TestList)\n",
    "                while lenDiff > 0:\n",
    "                    TestList.append(\"\")\n",
    "                    lenDiff -= 1\n",
    "                while lenDiff < 0:\n",
    "                    TrainList.append(\"\")\n",
    "                    lenDiff += 1\n",
    "                SimilarityCal(TestList,TrainList,SimilarityScore)\n",
    "    SimilarityScore.sort(key=(lambda x: x[1]),reverse=True)\n",
    "    # print(SimilarityScore)\n",
    "    if SimilarityScore[0] is not None and SimilarityScore[0][1] > leastRatio:\n",
    "        return SimilarityScore[0]\n",
    "    else:\n",
    "        return None"
   ],
   "metadata": {
    "collapsed": false
   }
  },
  {
   "cell_type": "code",
   "execution_count": 9,
   "outputs": [
    {
     "name": "stdout",
     "output_type": "stream",
     "text": [
      "['双流', 1.0]\n"
     ]
    }
   ],
   "source": [
    "# data=str(input(\"请输入文本:\"))\n",
    "temp = '四川省成都市双流区'\n",
    "p3 = MatchCounty(temp)\n",
    "result = countyAddrComp(p3)\n",
    "print(result)"
   ],
   "metadata": {
    "collapsed": false
   }
  },
  {
   "cell_type": "code",
   "execution_count": 10,
   "outputs": [
    {
     "name": "stderr",
     "output_type": "stream",
     "text": [
      "Building prefix dict from the default dictionary ...\n"
     ]
    },
    {
     "ename": "KeyboardInterrupt",
     "evalue": "",
     "output_type": "error",
     "traceback": [
      "\u001B[1;31m---------------------------------------------------------------------------\u001B[0m",
      "\u001B[1;31mKeyboardInterrupt\u001B[0m                         Traceback (most recent call last)",
      "Cell \u001B[1;32mIn [10], line 3\u001B[0m\n\u001B[0;32m      1\u001B[0m \u001B[38;5;28;01mimport\u001B[39;00m \u001B[38;5;21;01mjieba\u001B[39;00m\n\u001B[0;32m      2\u001B[0m \u001B[38;5;28;01mfrom\u001B[39;00m \u001B[38;5;21;01mjieba\u001B[39;00m \u001B[38;5;28;01mimport\u001B[39;00m analyse\n\u001B[1;32m----> 3\u001B[0m \u001B[43mjieba\u001B[49m\u001B[38;5;241;43m.\u001B[39;49m\u001B[43mload_userdict\u001B[49m\u001B[43m(\u001B[49m\u001B[38;5;124;43mr\u001B[39;49m\u001B[38;5;124;43m'\u001B[39;49m\u001B[38;5;124;43mF:\u001B[39;49m\u001B[38;5;124;43m\\\u001B[39;49m\u001B[38;5;124;43mSCU\u001B[39;49m\u001B[38;5;124;43m\\\u001B[39;49m\u001B[38;5;124;43m大创\u001B[39;49m\u001B[38;5;124;43m\\\u001B[39;49m\u001B[38;5;124;43mpython导入\u001B[39;49m\u001B[38;5;124;43m\\\u001B[39;49m\u001B[38;5;124;43mcity_dict.txt\u001B[39;49m\u001B[38;5;124;43m'\u001B[39;49m\u001B[43m)\u001B[49m\n\u001B[0;32m      4\u001B[0m jieba\u001B[38;5;241m.\u001B[39mload_userdict(\u001B[38;5;124mr\u001B[39m\u001B[38;5;124m'\u001B[39m\u001B[38;5;124mF:\u001B[39m\u001B[38;5;124m\\\u001B[39m\u001B[38;5;124mSCU\u001B[39m\u001B[38;5;124m\\\u001B[39m\u001B[38;5;124m大创\u001B[39m\u001B[38;5;124m\\\u001B[39m\u001B[38;5;124mpython导入\u001B[39m\u001B[38;5;124m\\\u001B[39m\u001B[38;5;124mcounty_dict.txt\u001B[39m\u001B[38;5;124m'\u001B[39m)\n\u001B[0;32m      5\u001B[0m \u001B[38;5;28;01mdef\u001B[39;00m \u001B[38;5;21mMatchCounty_new\u001B[39m(data):\n",
      "File \u001B[1;32m~\\AppData\\Local\\Programs\\Python\\Python310\\lib\\site-packages\\jieba\\__init__.py:395\u001B[0m, in \u001B[0;36mTokenizer.load_userdict\u001B[1;34m(self, f)\u001B[0m\n\u001B[0;32m    380\u001B[0m \u001B[38;5;28;01mdef\u001B[39;00m \u001B[38;5;21mload_userdict\u001B[39m(\u001B[38;5;28mself\u001B[39m, f):\n\u001B[0;32m    381\u001B[0m     \u001B[38;5;124;03m'''\u001B[39;00m\n\u001B[0;32m    382\u001B[0m \u001B[38;5;124;03m    Load personalized dict to improve detect rate.\u001B[39;00m\n\u001B[0;32m    383\u001B[0m \n\u001B[1;32m   (...)\u001B[0m\n\u001B[0;32m    393\u001B[0m \u001B[38;5;124;03m    Word type may be ignored\u001B[39;00m\n\u001B[0;32m    394\u001B[0m \u001B[38;5;124;03m    '''\u001B[39;00m\n\u001B[1;32m--> 395\u001B[0m     \u001B[38;5;28;43mself\u001B[39;49m\u001B[38;5;241;43m.\u001B[39;49m\u001B[43mcheck_initialized\u001B[49m\u001B[43m(\u001B[49m\u001B[43m)\u001B[49m\n\u001B[0;32m    396\u001B[0m     \u001B[38;5;28;01mif\u001B[39;00m \u001B[38;5;28misinstance\u001B[39m(f, string_types):\n\u001B[0;32m    397\u001B[0m         f_name \u001B[38;5;241m=\u001B[39m f\n",
      "File \u001B[1;32m~\\AppData\\Local\\Programs\\Python\\Python310\\lib\\site-packages\\jieba\\__init__.py:170\u001B[0m, in \u001B[0;36mTokenizer.check_initialized\u001B[1;34m(self)\u001B[0m\n\u001B[0;32m    168\u001B[0m \u001B[38;5;28;01mdef\u001B[39;00m \u001B[38;5;21mcheck_initialized\u001B[39m(\u001B[38;5;28mself\u001B[39m):\n\u001B[0;32m    169\u001B[0m     \u001B[38;5;28;01mif\u001B[39;00m \u001B[38;5;129;01mnot\u001B[39;00m \u001B[38;5;28mself\u001B[39m\u001B[38;5;241m.\u001B[39minitialized:\n\u001B[1;32m--> 170\u001B[0m         \u001B[38;5;28;43mself\u001B[39;49m\u001B[38;5;241;43m.\u001B[39;49m\u001B[43minitialize\u001B[49m\u001B[43m(\u001B[49m\u001B[43m)\u001B[49m\n",
      "File \u001B[1;32m~\\AppData\\Local\\Programs\\Python\\Python310\\lib\\site-packages\\jieba\\__init__.py:145\u001B[0m, in \u001B[0;36mTokenizer.initialize\u001B[1;34m(self, dictionary)\u001B[0m\n\u001B[0;32m    143\u001B[0m DICT_WRITING[abs_path] \u001B[38;5;241m=\u001B[39m wlock\n\u001B[0;32m    144\u001B[0m \u001B[38;5;28;01mwith\u001B[39;00m wlock:\n\u001B[1;32m--> 145\u001B[0m     \u001B[38;5;28mself\u001B[39m\u001B[38;5;241m.\u001B[39mFREQ, \u001B[38;5;28mself\u001B[39m\u001B[38;5;241m.\u001B[39mtotal \u001B[38;5;241m=\u001B[39m \u001B[38;5;28;43mself\u001B[39;49m\u001B[38;5;241;43m.\u001B[39;49m\u001B[43mgen_pfdict\u001B[49m\u001B[43m(\u001B[49m\u001B[38;5;28;43mself\u001B[39;49m\u001B[38;5;241;43m.\u001B[39;49m\u001B[43mget_dict_file\u001B[49m\u001B[43m(\u001B[49m\u001B[43m)\u001B[49m\u001B[43m)\u001B[49m\n\u001B[0;32m    146\u001B[0m     default_logger\u001B[38;5;241m.\u001B[39mdebug(\n\u001B[0;32m    147\u001B[0m         \u001B[38;5;124m\"\u001B[39m\u001B[38;5;124mDumping model to file cache \u001B[39m\u001B[38;5;132;01m%s\u001B[39;00m\u001B[38;5;124m\"\u001B[39m \u001B[38;5;241m%\u001B[39m cache_file)\n\u001B[0;32m    148\u001B[0m     \u001B[38;5;28;01mtry\u001B[39;00m:\n\u001B[0;32m    149\u001B[0m         \u001B[38;5;66;03m# prevent moving across different filesystems\u001B[39;00m\n",
      "File \u001B[1;32m~\\AppData\\Local\\Programs\\Python\\Python310\\lib\\site-packages\\jieba\\__init__.py:85\u001B[0m, in \u001B[0;36mTokenizer.gen_pfdict\u001B[1;34m(f)\u001B[0m\n\u001B[0;32m     83\u001B[0m     \u001B[38;5;28;01mfor\u001B[39;00m ch \u001B[38;5;129;01min\u001B[39;00m xrange(\u001B[38;5;28mlen\u001B[39m(word)):\n\u001B[0;32m     84\u001B[0m         wfrag \u001B[38;5;241m=\u001B[39m word[:ch \u001B[38;5;241m+\u001B[39m \u001B[38;5;241m1\u001B[39m]\n\u001B[1;32m---> 85\u001B[0m         \u001B[38;5;28;01mif\u001B[39;00m \u001B[43mwfrag\u001B[49m\u001B[43m \u001B[49m\u001B[38;5;129;43;01mnot\u001B[39;49;00m\u001B[43m \u001B[49m\u001B[38;5;129;43;01min\u001B[39;49;00m\u001B[43m \u001B[49m\u001B[43mlfreq\u001B[49m:\n\u001B[0;32m     86\u001B[0m             lfreq[wfrag] \u001B[38;5;241m=\u001B[39m \u001B[38;5;241m0\u001B[39m\n\u001B[0;32m     87\u001B[0m \u001B[38;5;28;01mexcept\u001B[39;00m \u001B[38;5;167;01mValueError\u001B[39;00m:\n",
      "\u001B[1;31mKeyboardInterrupt\u001B[0m: "
     ]
    }
   ],
   "source": [
    "import jieba\n",
    "from jieba import analyse\n",
    "jieba.load_userdict(r'F:\\SCU\\大创\\python导入\\city_dict.txt')\n",
    "jieba.load_userdict(r'F:\\SCU\\大创\\python导入\\county_dict.txt')\n",
    "def MatchCounty_new(data):\n",
    "    word_bag = []\n",
    "    # locations = jieba.cut(data,cut_all=False,HMM=False)\n",
    "    textrank = analyse.textrank\n",
    "    locations = textrank(data)\n",
    "    for l in locations:\n",
    "        word_bag.append(l)\n",
    "    print(word_bag)"
   ],
   "metadata": {
    "collapsed": false
   }
  },
  {
   "cell_type": "code",
   "execution_count": null,
   "outputs": [],
   "source": [
    "temp1 = '四川重庆市南岸区黄桷垭镇中药研究所'\n",
    "location = MatchCounty_new(temp1)"
   ],
   "metadata": {
    "collapsed": false
   }
  }
 ],
 "metadata": {
  "kernelspec": {
   "display_name": "Python 3",
   "language": "python",
   "name": "python3"
  },
  "language_info": {
   "codemirror_mode": {
    "name": "ipython",
    "version": 2
   },
   "file_extension": ".py",
   "mimetype": "text/x-python",
   "name": "python",
   "nbconvert_exporter": "python",
   "pygments_lexer": "ipython2",
   "version": "2.7.6"
  }
 },
 "nbformat": 4,
 "nbformat_minor": 0
}
